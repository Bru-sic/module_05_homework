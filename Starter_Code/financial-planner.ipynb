{
 "cells": [
  {
   "cell_type": "markdown",
   "metadata": {},
   "source": [
    "# Unit 5 - Financial Planning"
   ]
  },
  {
   "cell_type": "code",
   "execution_count": 2,
   "metadata": {},
   "outputs": [],
   "source": [
    "# Initial imports\n",
    "import os\n",
    "import requests\n",
    "import pandas as pd\n",
    "from dotenv import load_dotenv\n",
    "import alpaca_trade_api as tradeapi\n",
    "from datetime import datetime       # Import datetime function\n",
    "from datetime import timedelta      # Import timedelta function\n",
    "\n",
    "from MCForecastTools import MCSimulation\n",
    "\n",
    "%matplotlib inline"
   ]
  },
  {
   "cell_type": "code",
   "execution_count": 3,
   "metadata": {},
   "outputs": [
    {
     "data": {
      "text/plain": [
       "True"
      ]
     },
     "execution_count": 3,
     "metadata": {},
     "output_type": "execute_result"
    }
   ],
   "source": [
    "# Load .env enviroment variables\n",
    "load_dotenv()"
   ]
  },
  {
   "cell_type": "markdown",
   "metadata": {},
   "source": [
    "## Part 1 - Personal Finance Planner"
   ]
  },
  {
   "cell_type": "markdown",
   "metadata": {},
   "source": [
    "### Collect Crypto Prices Using the `requests` Library"
   ]
  },
  {
   "cell_type": "code",
   "execution_count": 4,
   "metadata": {},
   "outputs": [],
   "source": [
    "# Set current amount of crypto assets\n",
    "my_btc = 1.2   # Number of Bitcoins currently held\n",
    "my_eth = 5.3   # Number of Etherium currently held"
   ]
  },
  {
   "cell_type": "code",
   "execution_count": 5,
   "metadata": {},
   "outputs": [],
   "source": [
    "# Crypto API URLs\n",
    "btc_url = \"https://api.alternative.me/v2/ticker/Bitcoin/?convert=CAD\"\n",
    "eth_url = \"https://api.alternative.me/v2/ticker/Ethereum/?convert=CAD\""
   ]
  },
  {
   "cell_type": "code",
   "execution_count": 6,
   "metadata": {},
   "outputs": [
    {
     "name": "stdout",
     "output_type": "stream",
     "text": [
      "The current value of your 1.2 BTC is $44,196.35\n",
      "The current value of your 5.3 ETH is $11,737.95\n"
     ]
    }
   ],
   "source": [
    "# Fetch current BTC price\n",
    "btc_data = requests.get(btc_url).json()\n",
    "btc_price = btc_data[\"data\"][\"1\"][\"quotes\"][\"CAD\"][\"price\"]\n",
    "\n",
    "# Fetch current ETH price\n",
    "eth_data = requests.get(eth_url).json()\n",
    "eth_price = eth_data[\"data\"][\"1027\"][\"quotes\"][\"CAD\"][\"price\"]\n",
    "\n",
    "# Compute current value of my crpto\n",
    "my_btc_value = btc_price * my_btc\n",
    "my_eth_value = eth_price * my_eth\n",
    "\n",
    "# Print current crypto wallet balance\n",
    "print(f\"The current value of your {my_btc} BTC is ${my_btc_value:0,.2f}\")     # Show the current BTC holding with value formatted with the thousands separator and 2 decimal places\n",
    "print(f\"The current value of your {my_eth} ETH is ${my_eth_value:0,.2f}\")     # Show the current ETH holding with value formatted with the thousands separator and 2 decimal places\n",
    "\n",
    "# Acknowledgement https://docs.python.org/3/library/string.html#formatspec\n",
    "# Please also refer to the end for an alternate solution."
   ]
  },
  {
   "cell_type": "markdown",
   "metadata": {},
   "source": [
    "### Collect Investments Data Using Alpaca: `SPY` (stocks) and `AGG` (bonds)"
   ]
  },
  {
   "cell_type": "code",
   "execution_count": 7,
   "metadata": {},
   "outputs": [],
   "source": [
    "# Set current amount of shares\n",
    "my_agg = 200\n",
    "my_spy = 50"
   ]
  },
  {
   "cell_type": "code",
   "execution_count": 8,
   "metadata": {},
   "outputs": [],
   "source": [
    "# Set Alpaca API key and secret\n",
    "alpaca_api_key = os.environ.get('ALPACA_API_KEY')        # Fetch the api key from the .env file\n",
    "alpaca_secret_key = os.environ.get('ALPACA_SECRET_KEY')  # Fetch the secret key from the .env file\n",
    "\n",
    "# Set the Alpaca API version\n",
    "alpaca_api_version = \"v2\"\n",
    "\n",
    "# Set the base URL to Alpaca Market's trading environment.\n",
    "# Could have read this from the .env file but Bootcamp's AlpacaMarkets_Installation-Guide.md in the 05-APIs/Supplemental folder setup instructions don't mention setting this up.\n",
    "# According to https://github.com/alpacahq/alpaca-trade-api-python/#alpaca-environment-variables the default is the live site, so to be safe even though we are just fetchting prices, we\n",
    "# hard code the base url to the paper trading site.\n",
    "alpaca_base_url = \"https://paper-api.alpaca.markets\"     # Set the base url to Alpaca's paper trading environment\n",
    "\n",
    "# Create the Alpaca API object\n",
    "alpaca_api = tradeapi.REST(key_id=alpaca_api_key, secret_key=alpaca_secret_key, base_url=alpaca_base_url, api_version=alpaca_api_version)"
   ]
  },
  {
   "cell_type": "code",
   "execution_count": 9,
   "metadata": {},
   "outputs": [
    {
     "data": {
      "text/plain": [
       "alpaca_trade_api.rest.REST"
      ]
     },
     "execution_count": 9,
     "metadata": {},
     "output_type": "execute_result"
    }
   ],
   "source": [
    "type(alpaca_api)"
   ]
  },
  {
   "cell_type": "code",
   "execution_count": 10,
   "metadata": {},
   "outputs": [
    {
     "data": {
      "text/html": [
       "<div>\n",
       "<style scoped>\n",
       "    .dataframe tbody tr th:only-of-type {\n",
       "        vertical-align: middle;\n",
       "    }\n",
       "\n",
       "    .dataframe tbody tr th {\n",
       "        vertical-align: top;\n",
       "    }\n",
       "\n",
       "    .dataframe thead th {\n",
       "        text-align: right;\n",
       "    }\n",
       "</style>\n",
       "<table border=\"1\" class=\"dataframe\">\n",
       "  <thead>\n",
       "    <tr style=\"text-align: right;\">\n",
       "      <th></th>\n",
       "      <th>open</th>\n",
       "      <th>high</th>\n",
       "      <th>low</th>\n",
       "      <th>close</th>\n",
       "      <th>volume</th>\n",
       "      <th>trade_count</th>\n",
       "      <th>vwap</th>\n",
       "      <th>symbol</th>\n",
       "    </tr>\n",
       "    <tr>\n",
       "      <th>timestamp</th>\n",
       "      <th></th>\n",
       "      <th></th>\n",
       "      <th></th>\n",
       "      <th></th>\n",
       "      <th></th>\n",
       "      <th></th>\n",
       "      <th></th>\n",
       "      <th></th>\n",
       "    </tr>\n",
       "  </thead>\n",
       "  <tbody>\n",
       "    <tr>\n",
       "      <th>2023-09-19 04:00:00+00:00</th>\n",
       "      <td>95.54</td>\n",
       "      <td>95.59</td>\n",
       "      <td>95.35</td>\n",
       "      <td>95.35</td>\n",
       "      <td>5327873</td>\n",
       "      <td>23826</td>\n",
       "      <td>95.461377</td>\n",
       "      <td>AGG</td>\n",
       "    </tr>\n",
       "    <tr>\n",
       "      <th>2023-09-19 04:00:00+00:00</th>\n",
       "      <td>442.68</td>\n",
       "      <td>443.29</td>\n",
       "      <td>439.94</td>\n",
       "      <td>442.71</td>\n",
       "      <td>66514648</td>\n",
       "      <td>445858</td>\n",
       "      <td>441.962157</td>\n",
       "      <td>SPY</td>\n",
       "    </tr>\n",
       "  </tbody>\n",
       "</table>\n",
       "</div>"
      ],
      "text/plain": [
       "                             open    high     low   close    volume  \\\n",
       "timestamp                                                             \n",
       "2023-09-19 04:00:00+00:00   95.54   95.59   95.35   95.35   5327873   \n",
       "2023-09-19 04:00:00+00:00  442.68  443.29  439.94  442.71  66514648   \n",
       "\n",
       "                           trade_count        vwap symbol  \n",
       "timestamp                                                  \n",
       "2023-09-19 04:00:00+00:00        23826   95.461377    AGG  \n",
       "2023-09-19 04:00:00+00:00       445858  441.962157    SPY  "
      ]
     },
     "execution_count": 10,
     "metadata": {},
     "output_type": "execute_result"
    }
   ],
   "source": [
    "# Format current date as ISO format\n",
    "# today = pd.Timestamp.now(tz=\"America/New_York\").isoformat()       # Get current date (see note below)\n",
    "\n",
    "##################################################################################################\n",
    "# NOTE TO ASSESSOR:\n",
    "# Alpaca returned the following error when trying to retrieve the prices for the current date:\n",
    "#    \"APIError: your subscription does not permit querying data from the past 15 minutes\"\n",
    "#\n",
    "# Despite the error message the delayed time frame specified in the alpaca_api.get_bars request\n",
    "# needs to be at least 12 hours, not 15 minutes.\n",
    "# To overcome the above error and service restrictions, I opted for 1 day old data.\n",
    "##################################################################################################\n",
    "\n",
    "# Calculate yesterday's date as of midnight by getting the current datetime, subtracting 1 day,\n",
    "# normalising to midnight and then formatting into iso format\n",
    "yesterday = (pd.Timestamp.now( tz=\"America/New_York\") + timedelta(days=-1)).normalize().isoformat()\n",
    "  \n",
    "# Set the tickers\n",
    "tickers = ['AGG', 'SPY']\n",
    "\n",
    "# Set timeframe to \"1Day\" for Alpaca API\n",
    "timeframe = \"1Day\"\n",
    "\n",
    "# 4. Get the current closing prices for `SPY` and `AGG` using Alpaca's `get_bars()` function.\n",
    "# Transform the function's response to a Pandas DataFrame and preview the data.\n",
    "\n",
    "# Get current closing prices for SPY and AGG\n",
    "df_portfolio = alpaca_api.get_bars(\n",
    "    tickers,\n",
    "    timeframe,\n",
    "    start = yesterday,\n",
    "    end = yesterday\n",
    ").df\n",
    "\n",
    "# Display sample data\n",
    "df_portfolio"
   ]
  },
  {
   "cell_type": "markdown",
   "metadata": {},
   "source": [
    "# Note to Assessor \n",
    "The following instructions originally in the starter file seem to be inconsistent with steps 4 and 5 of the original README.md briefing.   \n",
    "As such these have been ignored as there is no need to reorganise the data frame in order to fetch the current prices."
   ]
  },
  {
   "cell_type": "code",
   "execution_count": 13,
   "metadata": {},
   "outputs": [],
   "source": [
    "# Reorganize the DataFrame\n",
    "# Separate ticker data\n",
    "#### SEE NOTE ABOVE  ####\n",
    "# Concatenate the ticker DataFrames"
   ]
  },
  {
   "cell_type": "code",
   "execution_count": 14,
   "metadata": {},
   "outputs": [
    {
     "name": "stdout",
     "output_type": "stream",
     "text": [
      "Current AGG closing price: $95.35\n",
      "Current SPY closing price: $442.71\n"
     ]
    }
   ],
   "source": [
    "# 5. Pick the `SPY` and `AGG` close prices from the Alpaca's `get_bars()` DataFrame response and store them as Python variables.\n",
    "# Pick AGG and SPY close prices\n",
    "spy_close_price = float(df_portfolio[df_portfolio[\"symbol\"] == \"SPY\"][\"close\"])\n",
    "agg_close_price = float(df_portfolio[df_portfolio[\"symbol\"] == \"AGG\"][\"close\"])\n",
    "\n",
    "# Print AGG and SPY close prices\n",
    "print(f\"Current AGG closing price: ${agg_close_price}\")\n",
    "print(f\"Current SPY closing price: ${spy_close_price}\")"
   ]
  },
  {
   "cell_type": "code",
   "execution_count": 15,
   "metadata": {},
   "outputs": [
    {
     "name": "stdout",
     "output_type": "stream",
     "text": [
      "The current value of your 50 SPY shares is $22,135.50\n",
      "The current value of your 200 AGG shares is $19,070.00\n"
     ]
    }
   ],
   "source": [
    "# 6. Compute the value in dollars of the current amount of shares and print the results.\n",
    "# Compute the current value of shares\n",
    "my_spy_value = spy_close_price * my_spy\n",
    "my_agg_value = agg_close_price * my_agg\n",
    "\n",
    "# Print current value of shares\n",
    "print(f\"The current value of your {my_spy} SPY shares is ${my_spy_value:0,.2f}\")\n",
    "print(f\"The current value of your {my_agg} AGG shares is ${my_agg_value:0,.2f}\")"
   ]
  },
  {
   "cell_type": "markdown",
   "metadata": {},
   "source": [
    "### Savings Health Analysis"
   ]
  },
  {
   "cell_type": "code",
   "execution_count": 36,
   "metadata": {},
   "outputs": [
    {
     "data": {
      "text/html": [
       "<div>\n",
       "<style scoped>\n",
       "    .dataframe tbody tr th:only-of-type {\n",
       "        vertical-align: middle;\n",
       "    }\n",
       "\n",
       "    .dataframe tbody tr th {\n",
       "        vertical-align: top;\n",
       "    }\n",
       "\n",
       "    .dataframe thead th {\n",
       "        text-align: right;\n",
       "    }\n",
       "</style>\n",
       "<table border=\"1\" class=\"dataframe\">\n",
       "  <thead>\n",
       "    <tr style=\"text-align: right;\">\n",
       "      <th></th>\n",
       "      <th>amount</th>\n",
       "    </tr>\n",
       "  </thead>\n",
       "  <tbody>\n",
       "    <tr>\n",
       "      <th>crypto</th>\n",
       "      <td>41205.500000</td>\n",
       "    </tr>\n",
       "    <tr>\n",
       "      <th>shares</th>\n",
       "      <td>55934.305713</td>\n",
       "    </tr>\n",
       "  </tbody>\n",
       "</table>\n",
       "</div>"
      ],
      "text/plain": [
       "              amount\n",
       "crypto  41205.500000\n",
       "shares  55934.305713"
      ]
     },
     "metadata": {},
     "output_type": "display_data"
    }
   ],
   "source": [
    "# Set monthly household income\n",
    "monthly_income = 12000\n",
    "\n",
    "# Consolidate financial assets data\n",
    "total_crypto_value = my_spy_value + my_agg_value\n",
    "total_shares_value = my_btc_value + my_eth_value\n",
    "\n",
    "# Create savings DataFrame\n",
    "df_savings = pd.DataFrame([total_crypto_value, total_shares_value], index=[\"crypto\", \"shares\"], columns=[\"amount\"])\n",
    "\n",
    "# Display savings DataFrame\n",
    "display(df_savings)"
   ]
  },
  {
   "cell_type": "code",
   "execution_count": 40,
   "metadata": {},
   "outputs": [
    {
     "data": {
      "image/png": "[encoded data removed]",
      "text/plain": [
       "<Figure size 640x480 with 1 Axes>"
      ]
     },
     "metadata": {},
     "output_type": "display_data"
    }
   ],
   "source": [
    "# Plot savings pie chart\n",
    "result = df_savings.plot.pie( y=\"amount\", title = \"Composition of Personal Savings\" )"
   ]
  },
  {
   "cell_type": "code",
   "execution_count": 41,
   "metadata": {},
   "outputs": [
    {
     "data": {
      "text/plain": [
       "'Congratulations on exceeding your financial goal!'"
      ]
     },
     "metadata": {},
     "output_type": "display_data"
    }
   ],
   "source": [
    "# Set ideal emergency fund\n",
    "emergency_fund = monthly_income * 3\n",
    "\n",
    "# Calculate total amount of savings\n",
    "total_savings_amount = total_crypto_value + total_shares_value\n",
    "\n",
    "# Validate saving health\n",
    "if total_savings_amount > emergency_fund:                                # Check if total savings exceeds emergency fund, if so congratulate for exceeding\n",
    "    display( \"Congratulations on exceeding your financial goal!\" )\n",
    "    \n",
    "if total_savings_amount == emergency_fund:                               # Check if total savings equals emergency fund, if so congratulate for reaching\n",
    "    display( \"Congratulations on reaching your financial goal!\" )\n",
    "\n",
    "if  total_savings_amount < emergency_fund:                               # Check if total savings are less than emergency fund, if so inform how much left to go\n",
    "    amount_left = emergency_fund - total_savings_amount\n",
    "    display( f\"You need ${amount_left:0,.2f} to reach your financial goal.\" )\n",
    "    \n",
    "# Alternatively could have used if, elif, else"
   ]
  },
  {
   "cell_type": "markdown",
   "metadata": {},
   "source": [
    "## Part 2 - Retirement Planning\n",
    "\n",
    "### Monte Carlo Simulation"
   ]
  },
  {
   "cell_type": "code",
   "execution_count": null,
   "metadata": {},
   "outputs": [],
   "source": [
    "# Set start and end dates of five years back from today.\n",
    "# Sample results may vary from the solution based on the time frame chosen\n",
    "start_date = pd.Timestamp('2016-05-01', tz='America/New_York').isoformat()\n",
    "end_date = pd.Timestamp('2021-05-01', tz='America/New_York').isoformat()"
   ]
  },
  {
   "cell_type": "code",
   "execution_count": null,
   "metadata": {},
   "outputs": [],
   "source": [
    "# Get 5 years' worth of historical data for SPY and AGG\n",
    "# YOUR CODE HERE!\n",
    "\n",
    "# Reorganize the DataFrame\n",
    "# Separate ticker data\n",
    "# YOUR CODE HERE!\n",
    "\n",
    "\n",
    "# Concatenate the ticker DataFrames\n",
    "# YOUR CODE HERE!\n",
    "\n",
    "# Display sample data\n",
    "df_stock_data.head()"
   ]
  },
  {
   "cell_type": "code",
   "execution_count": null,
   "metadata": {},
   "outputs": [],
   "source": [
    "# Configuring a Monte Carlo simulation to forecast 30 years cumulative returns\n",
    "# YOUR CODE HERE!"
   ]
  },
  {
   "cell_type": "code",
   "execution_count": null,
   "metadata": {},
   "outputs": [],
   "source": [
    "# Printing the simulation input data\n",
    "# YOUR CODE HERE!"
   ]
  },
  {
   "cell_type": "code",
   "execution_count": null,
   "metadata": {},
   "outputs": [],
   "source": [
    "# Running a Monte Carlo simulation to forecast 30 years cumulative returns\n",
    "# YOUR CODE HERE!"
   ]
  },
  {
   "cell_type": "code",
   "execution_count": null,
   "metadata": {},
   "outputs": [],
   "source": [
    "# Plot simulation outcomes\n",
    "# YOUR CODE HERE!"
   ]
  },
  {
   "cell_type": "code",
   "execution_count": null,
   "metadata": {},
   "outputs": [],
   "source": [
    "# Plot probability distribution and confidence intervals\n",
    "# YOUR CODE HERE!"
   ]
  },
  {
   "cell_type": "markdown",
   "metadata": {},
   "source": [
    "### Retirement Analysis"
   ]
  },
  {
   "cell_type": "code",
   "execution_count": null,
   "metadata": {},
   "outputs": [],
   "source": [
    "# Fetch summary statistics from the Monte Carlo simulation results\n",
    "# YOUR CODE HERE!\n",
    "\n",
    "# Print summary statistics\n",
    "# YOUR CODE HERE!"
   ]
  },
  {
   "cell_type": "markdown",
   "metadata": {},
   "source": [
    "### Calculate the expected portfolio return at the `95%` lower and upper confidence intervals based on a `$20,000` initial investment."
   ]
  },
  {
   "cell_type": "code",
   "execution_count": null,
   "metadata": {},
   "outputs": [],
   "source": [
    "# Set initial investment\n",
    "initial_investment = 20000\n",
    "\n",
    "# Use the lower and upper `95%` confidence intervals to calculate the range of the possible outcomes of our $20,000\n",
    "# YOUR CODE HERE!\n",
    "\n",
    "# Print results\n",
    "print(f\"There is a 95% chance that an initial investment of ${initial_investment} in the portfolio\"\n",
    "      f\" over the next 30 years will end within in the range of\"\n",
    "      f\" ${ci_lower} and ${ci_upper}\")"
   ]
  },
  {
   "cell_type": "markdown",
   "metadata": {},
   "source": [
    "### Calculate the expected portfolio return at the `95%` lower and upper confidence intervals based on a `50%` increase in the initial investment."
   ]
  },
  {
   "cell_type": "code",
   "execution_count": null,
   "metadata": {},
   "outputs": [],
   "source": [
    "# Set initial investment\n",
    "initial_investment = 20000 * 1.5\n",
    "\n",
    "# Use the lower and upper `95%` confidence intervals to calculate the range of the possible outcomes of our $30,000\n",
    "# YOUR CODE HERE!\n",
    "\n",
    "# Print results\n",
    "print(f\"There is a 95% chance that an initial investment of ${initial_investment} in the portfolio\"\n",
    "      f\" over the next 30 years will end within in the range of\"\n",
    "      f\" ${ci_lower} and ${ci_upper}\")"
   ]
  },
  {
   "cell_type": "markdown",
   "metadata": {},
   "source": [
    "## Optional Challenge - Early Retirement\n",
    "\n",
    "\n",
    "### Five Years Retirement Option"
   ]
  },
  {
   "cell_type": "code",
   "execution_count": null,
   "metadata": {},
   "outputs": [],
   "source": [
    "# Configuring a Monte Carlo simulation to forecast 5 years cumulative returns\n",
    "# YOUR CODE HERE!"
   ]
  },
  {
   "cell_type": "code",
   "execution_count": null,
   "metadata": {},
   "outputs": [],
   "source": [
    "# Running a Monte Carlo simulation to forecast 5 years cumulative returns\n",
    "# YOUR CODE HERE!"
   ]
  },
  {
   "cell_type": "code",
   "execution_count": null,
   "metadata": {},
   "outputs": [],
   "source": [
    "# Plot simulation outcomes\n",
    "# YOUR CODE HERE!"
   ]
  },
  {
   "cell_type": "code",
   "execution_count": null,
   "metadata": {},
   "outputs": [],
   "source": [
    "# Plot probability distribution and confidence intervals\n",
    "# YOUR CODE HERE!"
   ]
  },
  {
   "cell_type": "code",
   "execution_count": null,
   "metadata": {},
   "outputs": [],
   "source": [
    "# Fetch summary statistics from the Monte Carlo simulation results\n",
    "# YOUR CODE HERE!\n",
    "\n",
    "# Print summary statistics\n",
    "# YOUR CODE HERE!"
   ]
  },
  {
   "cell_type": "code",
   "execution_count": null,
   "metadata": {},
   "outputs": [],
   "source": [
    "# Set initial investment\n",
    "# YOUR CODE HERE!\n",
    "\n",
    "# Use the lower and upper `95%` confidence intervals to calculate the range of the possible outcomes of our $60,000\n",
    "# YOUR CODE HERE!\n",
    "\n",
    "# Print results\n",
    "print(f\"There is a 95% chance that an initial investment of ${initial_investment} in the portfolio\"\n",
    "      f\" over the next 5 years will end within in the range of\"\n",
    "      f\" ${ci_lower_five} and ${ci_upper_five}\")"
   ]
  },
  {
   "cell_type": "markdown",
   "metadata": {},
   "source": [
    "### Ten Years Retirement Option"
   ]
  },
  {
   "cell_type": "code",
   "execution_count": null,
   "metadata": {},
   "outputs": [],
   "source": [
    "# Configuring a Monte Carlo simulation to forecast 10 years cumulative returns\n",
    "# YOUR CODE HERE!"
   ]
  },
  {
   "cell_type": "code",
   "execution_count": null,
   "metadata": {},
   "outputs": [],
   "source": [
    "# Running a Monte Carlo simulation to forecast 10 years cumulative returns\n",
    "# YOUR CODE HERE!"
   ]
  },
  {
   "cell_type": "code",
   "execution_count": null,
   "metadata": {},
   "outputs": [],
   "source": [
    "# Plot simulation outcomes\n",
    "# YOUR CODE HERE!"
   ]
  },
  {
   "cell_type": "code",
   "execution_count": null,
   "metadata": {},
   "outputs": [],
   "source": [
    "# Plot probability distribution and confidence intervals\n",
    "# YOUR CODE HERE!"
   ]
  },
  {
   "cell_type": "code",
   "execution_count": null,
   "metadata": {},
   "outputs": [],
   "source": [
    "# Fetch summary statistics from the Monte Carlo simulation results\n",
    "# YOUR CODE HERE!\n",
    "\n",
    "# Print summary statistics\n",
    "# YOUR CODE HERE!"
   ]
  },
  {
   "cell_type": "code",
   "execution_count": null,
   "metadata": {},
   "outputs": [],
   "source": [
    "# Set initial investment\n",
    "# YOUR CODE HERE!\n",
    "\n",
    "# Use the lower and upper `95%` confidence intervals to calculate the range of the possible outcomes of our $60,000\n",
    "# YOUR CODE HERE!\n",
    "\n",
    "# Print results\n",
    "print(f\"There is a 95% chance that an initial investment of ${initial_investment} in the portfolio\"\n",
    "      f\" over the next 10 years will end within in the range of\"\n",
    "      f\" ${ci_lower_ten} and ${ci_upper_ten}\")"
   ]
  },
  {
   "cell_type": "markdown",
   "metadata": {},
   "source": [
    "---"
   ]
  },
  {
   "cell_type": "markdown",
   "metadata": {},
   "source": [
    "# Alternate solution using a dictionary for \"Collect Crypto Prices Using the requests Library\""
   ]
  },
  {
   "cell_type": "code",
   "execution_count": null,
   "metadata": {},
   "outputs": [],
   "source": [
    "# Alternate solution using a dictionary\n",
    "\n",
    "# Define a dictionary for my portfolio\n",
    "# the dictionary's schema is:\n",
    "#    \"integer\": {              Unique index number E.g. 0\n",
    "#        \"name\": \"string\",     Coin long name E.g. Bitcoin (as per alternative.me naming convention https://alternative.me/crypto/api/)\n",
    "#        \"symbol\": \"string\",   Coin ticker symbol E.g. BTC\n",
    "#        \"coin_id\": \"integer\", Coin's identifier on alternative.me. Eg. 1027 for etherium\n",
    "#        \"holding\": \"1.2\"      Quantity of coin currently held in my portfolio\n",
    "#    },\n",
    "\n",
    "my_portfolio = {\n",
    "    \"0\": {\n",
    "        \"name\": \"Bitcoin\",\n",
    "        \"symbol\": \"BTC\",\n",
    "        \"coin_id\": 1,\n",
    "        \"holding\": \"1.2\"\n",
    "    },\n",
    "    \"1\": {\n",
    "        \"name\": \"Ethereum\",\n",
    "        \"symbol\": \"ETH\",\n",
    "        \"coin_id\": 1027,\n",
    "        \"holding\": \"5.3\"\n",
    "    }\n",
    "}\n",
    "\n",
    "preferred_currency_code = \"CAD\"   # Set the preferred currency code to fetch from alternative.me"
   ]
  },
  {
   "cell_type": "code",
   "execution_count": null,
   "metadata": {},
   "outputs": [],
   "source": [
    "my_portfolio"
   ]
  },
  {
   "cell_type": "code",
   "execution_count": null,
   "metadata": {},
   "outputs": [],
   "source": [
    "total_portfolio_value = 0 # initialise the total portfolio value\n",
    "\n",
    "for coin in my_portfolio:\n",
    "    # Get the coin details from my portfolio dictionary\n",
    "    coin_name = my_portfolio[coin][\"name\"]\n",
    "    coin_symbol = my_portfolio[coin][\"symbol\"]\n",
    "    coin_id = str(my_portfolio[coin][\"coin_id\"])\n",
    "    coin_holding = float(my_portfolio[coin][\"holding\"])\n",
    "\n",
    "    url = f\"https://api.alternative.me/v2/ticker/{coin_name}/?convert={preferred_currency_code}\"  # build the url with the coin name and desired currency code\n",
    "    coin_data = requests.get(url).json()  # fetch the pricing data\n",
    "    \n",
    "    coin_price = float(coin_data[\"data\"][coin_id][\"quotes\"][preferred_currency_code][\"price\"])   # Convert the coin price into a float\n",
    "    coin_value = coin_price * coin_holding     # Muliply the current coin price by our holding of the coin to get the value\n",
    "    total_portfolio_value += coin_value        # Add the value of the current coin to the total portfolio value\n",
    "\n",
    "    time_stamp = coin_data[\"metadata\"][\"timestamp\"]    # Additional information - grab the timestamp from the feed data which is in Unix epoch in seconds (eg 1544129220 )  \n",
    "    date_time = datetime.fromtimestamp(time_stamp)     # ...and convert it to a human readable format\n",
    "    \n",
    "    # Show the date and time when the coin price was applicable, the coin name, symbol and holding value based on how many coins we have in the portfolio.\n",
    "    # ...formatting the value with the thousands separator and 2 decimal places  \n",
    "    print(f\"The current value (as at {date_time}) of your {coin_name} ({coin_symbol}) in {preferred_currency_code} is ${coin_value:0,.2f}\")\n",
    "\n",
    "print(f\"The current total value of your portfolio in {preferred_currency_code} is ${total_portfolio_value:0,.2f}\")    "
   ]
  },
  {
   "cell_type": "code",
   "execution_count": null,
   "metadata": {},
   "outputs": [],
   "source": []
  }
 ],
 "metadata": {
  "kernelspec": {
   "display_name": "Python 3 (ipykernel)",
   "language": "python",
   "name": "python3"
  },
  "language_info": {
   "codemirror_mode": {
    "name": "ipython",
    "version": 3
   },
   "file_extension": ".py",
   "mimetype": "text/x-python",
   "name": "python",
   "nbconvert_exporter": "python",
   "pygments_lexer": "ipython3",
   "version": "3.7.13"
  },
  "nteract": {
   "version": "0.28.0"
  }
 },
 "nbformat": 4,
 "nbformat_minor": 4
}
